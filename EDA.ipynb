{
 "cells": [
  {
   "cell_type": "code",
   "execution_count": 115,
   "id": "a8bfdf3d",
   "metadata": {},
   "outputs": [],
   "source": [
    "import pandas as pd\n",
    "import seaborn as sns   \n",
    "import matplotlib.pyplot as plt\n",
    "\n",
    "unemployment = pd.read_csv('Data/clean_unemployment.csv')\n"
   ]
  },
  {
   "cell_type": "code",
   "execution_count": 116,
   "id": "96cd0692",
   "metadata": {},
   "outputs": [
    {
     "data": {
      "image/png": "[encoded data removed]",
      "text/plain": [
       "<Figure size 640x480 with 1 Axes>"
      ]
     },
     "metadata": {},
     "output_type": "display_data"
    }
   ],
   "source": [
    "sns.histplot(unemployment, x='2021', binwidth=1)\n",
    "plt.show()"
   ]
  },
  {
   "cell_type": "code",
   "execution_count": 117,
   "id": "f3b67eb1",
   "metadata": {},
   "outputs": [
    {
     "data": {
      "text/html": [
       "<div>\n",
       "<style scoped>\n",
       "    .dataframe tbody tr th:only-of-type {\n",
       "        vertical-align: middle;\n",
       "    }\n",
       "\n",
       "    .dataframe tbody tr th {\n",
       "        vertical-align: top;\n",
       "    }\n",
       "\n",
       "    .dataframe thead th {\n",
       "        text-align: right;\n",
       "    }\n",
       "</style>\n",
       "<table border=\"1\" class=\"dataframe\">\n",
       "  <thead>\n",
       "    <tr style=\"text-align: right;\">\n",
       "      <th></th>\n",
       "      <th>country_code</th>\n",
       "      <th>country_name</th>\n",
       "      <th>continent</th>\n",
       "      <th>2010</th>\n",
       "      <th>2011</th>\n",
       "      <th>2012</th>\n",
       "      <th>2013</th>\n",
       "      <th>2014</th>\n",
       "      <th>2015</th>\n",
       "      <th>2016</th>\n",
       "      <th>2017</th>\n",
       "      <th>2018</th>\n",
       "      <th>2019</th>\n",
       "      <th>2020</th>\n",
       "      <th>2021</th>\n",
       "    </tr>\n",
       "  </thead>\n",
       "  <tbody>\n",
       "    <tr>\n",
       "      <th>0</th>\n",
       "      <td>AFG</td>\n",
       "      <td>Afghanistan</td>\n",
       "      <td>Asia</td>\n",
       "      <td>11.35</td>\n",
       "      <td>11.05</td>\n",
       "      <td>11.34</td>\n",
       "      <td>11.19</td>\n",
       "      <td>11.14</td>\n",
       "      <td>11.13</td>\n",
       "      <td>11.16</td>\n",
       "      <td>11.18</td>\n",
       "      <td>11.15</td>\n",
       "      <td>11.22</td>\n",
       "      <td>11.71</td>\n",
       "      <td>13.28</td>\n",
       "    </tr>\n",
       "    <tr>\n",
       "      <th>1</th>\n",
       "      <td>AGO</td>\n",
       "      <td>Angola</td>\n",
       "      <td>Africa</td>\n",
       "      <td>9.43</td>\n",
       "      <td>7.36</td>\n",
       "      <td>7.35</td>\n",
       "      <td>7.37</td>\n",
       "      <td>7.37</td>\n",
       "      <td>7.39</td>\n",
       "      <td>7.41</td>\n",
       "      <td>7.41</td>\n",
       "      <td>7.42</td>\n",
       "      <td>7.42</td>\n",
       "      <td>8.33</td>\n",
       "      <td>8.53</td>\n",
       "    </tr>\n",
       "    <tr>\n",
       "      <th>2</th>\n",
       "      <td>ALB</td>\n",
       "      <td>Albania</td>\n",
       "      <td>Europe</td>\n",
       "      <td>14.09</td>\n",
       "      <td>13.48</td>\n",
       "      <td>13.38</td>\n",
       "      <td>15.87</td>\n",
       "      <td>18.05</td>\n",
       "      <td>17.19</td>\n",
       "      <td>15.42</td>\n",
       "      <td>13.62</td>\n",
       "      <td>12.30</td>\n",
       "      <td>11.47</td>\n",
       "      <td>13.33</td>\n",
       "      <td>11.82</td>\n",
       "    </tr>\n",
       "    <tr>\n",
       "      <th>3</th>\n",
       "      <td>ARE</td>\n",
       "      <td>United Arab Emirates</td>\n",
       "      <td>Asia</td>\n",
       "      <td>2.48</td>\n",
       "      <td>2.30</td>\n",
       "      <td>2.18</td>\n",
       "      <td>2.04</td>\n",
       "      <td>1.91</td>\n",
       "      <td>1.77</td>\n",
       "      <td>1.64</td>\n",
       "      <td>2.46</td>\n",
       "      <td>2.35</td>\n",
       "      <td>2.23</td>\n",
       "      <td>3.19</td>\n",
       "      <td>3.36</td>\n",
       "    </tr>\n",
       "    <tr>\n",
       "      <th>4</th>\n",
       "      <td>ARG</td>\n",
       "      <td>Argentina</td>\n",
       "      <td>South America</td>\n",
       "      <td>7.71</td>\n",
       "      <td>7.18</td>\n",
       "      <td>7.22</td>\n",
       "      <td>7.10</td>\n",
       "      <td>7.27</td>\n",
       "      <td>7.52</td>\n",
       "      <td>8.11</td>\n",
       "      <td>8.35</td>\n",
       "      <td>9.22</td>\n",
       "      <td>9.84</td>\n",
       "      <td>11.46</td>\n",
       "      <td>10.90</td>\n",
       "    </tr>\n",
       "    <tr>\n",
       "      <th>5</th>\n",
       "      <td>ARM</td>\n",
       "      <td>Armenia</td>\n",
       "      <td>Asia</td>\n",
       "      <td>19.01</td>\n",
       "      <td>18.44</td>\n",
       "      <td>17.30</td>\n",
       "      <td>16.18</td>\n",
       "      <td>17.50</td>\n",
       "      <td>18.26</td>\n",
       "      <td>17.62</td>\n",
       "      <td>17.70</td>\n",
       "      <td>18.97</td>\n",
       "      <td>18.30</td>\n",
       "      <td>21.21</td>\n",
       "      <td>20.90</td>\n",
       "    </tr>\n",
       "    <tr>\n",
       "      <th>7</th>\n",
       "      <td>AUT</td>\n",
       "      <td>Austria</td>\n",
       "      <td>Europe</td>\n",
       "      <td>4.82</td>\n",
       "      <td>4.56</td>\n",
       "      <td>4.87</td>\n",
       "      <td>5.33</td>\n",
       "      <td>5.62</td>\n",
       "      <td>5.72</td>\n",
       "      <td>6.01</td>\n",
       "      <td>5.50</td>\n",
       "      <td>4.85</td>\n",
       "      <td>4.49</td>\n",
       "      <td>5.36</td>\n",
       "      <td>6.30</td>\n",
       "    </tr>\n",
       "    <tr>\n",
       "      <th>8</th>\n",
       "      <td>AZE</td>\n",
       "      <td>Azerbaijan</td>\n",
       "      <td>Asia</td>\n",
       "      <td>5.63</td>\n",
       "      <td>5.42</td>\n",
       "      <td>5.19</td>\n",
       "      <td>4.97</td>\n",
       "      <td>4.91</td>\n",
       "      <td>4.96</td>\n",
       "      <td>5.00</td>\n",
       "      <td>5.00</td>\n",
       "      <td>4.90</td>\n",
       "      <td>4.85</td>\n",
       "      <td>6.46</td>\n",
       "      <td>6.58</td>\n",
       "    </tr>\n",
       "    <tr>\n",
       "      <th>9</th>\n",
       "      <td>BDI</td>\n",
       "      <td>Burundi</td>\n",
       "      <td>Africa</td>\n",
       "      <td>1.61</td>\n",
       "      <td>1.60</td>\n",
       "      <td>1.59</td>\n",
       "      <td>1.58</td>\n",
       "      <td>1.57</td>\n",
       "      <td>1.60</td>\n",
       "      <td>1.59</td>\n",
       "      <td>1.59</td>\n",
       "      <td>1.59</td>\n",
       "      <td>1.59</td>\n",
       "      <td>1.71</td>\n",
       "      <td>1.79</td>\n",
       "    </tr>\n",
       "    <tr>\n",
       "      <th>10</th>\n",
       "      <td>BEL</td>\n",
       "      <td>Belgium</td>\n",
       "      <td>Europe</td>\n",
       "      <td>8.29</td>\n",
       "      <td>7.14</td>\n",
       "      <td>7.54</td>\n",
       "      <td>8.43</td>\n",
       "      <td>8.52</td>\n",
       "      <td>8.48</td>\n",
       "      <td>7.83</td>\n",
       "      <td>7.09</td>\n",
       "      <td>5.95</td>\n",
       "      <td>5.36</td>\n",
       "      <td>5.55</td>\n",
       "      <td>6.42</td>\n",
       "    </tr>\n",
       "  </tbody>\n",
       "</table>\n",
       "</div>"
      ],
      "text/plain": [
       "   country_code          country_name      continent   2010   2011   2012  \\\n",
       "0           AFG           Afghanistan           Asia  11.35  11.05  11.34   \n",
       "1           AGO                Angola         Africa   9.43   7.36   7.35   \n",
       "2           ALB               Albania         Europe  14.09  13.48  13.38   \n",
       "3           ARE  United Arab Emirates           Asia   2.48   2.30   2.18   \n",
       "4           ARG             Argentina  South America   7.71   7.18   7.22   \n",
       "5           ARM               Armenia           Asia  19.01  18.44  17.30   \n",
       "7           AUT               Austria         Europe   4.82   4.56   4.87   \n",
       "8           AZE            Azerbaijan           Asia   5.63   5.42   5.19   \n",
       "9           BDI               Burundi         Africa   1.61   1.60   1.59   \n",
       "10          BEL               Belgium         Europe   8.29   7.14   7.54   \n",
       "\n",
       "     2013   2014   2015   2016   2017   2018   2019   2020   2021  \n",
       "0   11.19  11.14  11.13  11.16  11.18  11.15  11.22  11.71  13.28  \n",
       "1    7.37   7.37   7.39   7.41   7.41   7.42   7.42   8.33   8.53  \n",
       "2   15.87  18.05  17.19  15.42  13.62  12.30  11.47  13.33  11.82  \n",
       "3    2.04   1.91   1.77   1.64   2.46   2.35   2.23   3.19   3.36  \n",
       "4    7.10   7.27   7.52   8.11   8.35   9.22   9.84  11.46  10.90  \n",
       "5   16.18  17.50  18.26  17.62  17.70  18.97  18.30  21.21  20.90  \n",
       "7    5.33   5.62   5.72   6.01   5.50   4.85   4.49   5.36   6.30  \n",
       "8    4.97   4.91   4.96   5.00   5.00   4.90   4.85   6.46   6.58  \n",
       "9    1.58   1.57   1.60   1.59   1.59   1.59   1.59   1.71   1.79  \n",
       "10   8.43   8.52   8.48   7.83   7.09   5.95   5.36   5.55   6.42  "
      ]
     },
     "execution_count": 117,
     "metadata": {},
     "output_type": "execute_result"
    }
   ],
   "source": [
    "not_oceania = ~unemployment['continent'].isin(['Oceania'])      # adding tilde negates or 'reverses' the truth value \n",
    "                                                                # not in Oceania = True ; in Oceania = False\n",
    "unemployment[not_oceania].head(10)      # now shows countries that are not in Oceania"
   ]
  },
  {
   "cell_type": "code",
   "execution_count": 118,
   "id": "5bebc6f0",
   "metadata": {},
   "outputs": [
    {
     "name": "stdout",
     "output_type": "stream",
     "text": [
      "0.26 33.56\n"
     ]
    },
    {
     "data": {
      "image/png": "[encoded data removed]",
      "text/plain": [
       "<Figure size 640x480 with 1 Axes>"
      ]
     },
     "metadata": {},
     "output_type": "display_data"
    }
   ],
   "source": [
    "yr_2021 = unemployment['2021']\n",
    "\n",
    "print(yr_2021.min(), yr_2021.max())\n",
    "\n",
    "sns.boxplot(unemployment, x='2021', y='continent')\n",
    "plt.show()"
   ]
  },
  {
   "cell_type": "code",
   "execution_count": 119,
   "id": "b3a7adea",
   "metadata": {},
   "outputs": [
    {
     "data": {
      "text/html": [
       "<div>\n",
       "<style scoped>\n",
       "    .dataframe tbody tr th:only-of-type {\n",
       "        vertical-align: middle;\n",
       "    }\n",
       "\n",
       "    .dataframe tbody tr th {\n",
       "        vertical-align: top;\n",
       "    }\n",
       "\n",
       "    .dataframe thead th {\n",
       "        text-align: right;\n",
       "    }\n",
       "</style>\n",
       "<table border=\"1\" class=\"dataframe\">\n",
       "  <thead>\n",
       "    <tr style=\"text-align: right;\">\n",
       "      <th></th>\n",
       "      <th>mean_rate_2021</th>\n",
       "      <th>std_rate_2021</th>\n",
       "    </tr>\n",
       "    <tr>\n",
       "      <th>continent</th>\n",
       "      <th></th>\n",
       "      <th></th>\n",
       "    </tr>\n",
       "  </thead>\n",
       "  <tbody>\n",
       "    <tr>\n",
       "      <th>Africa</th>\n",
       "      <td>10.473585</td>\n",
       "      <td>8.131636</td>\n",
       "    </tr>\n",
       "    <tr>\n",
       "      <th>Asia</th>\n",
       "      <td>6.906170</td>\n",
       "      <td>5.414745</td>\n",
       "    </tr>\n",
       "    <tr>\n",
       "      <th>Europe</th>\n",
       "      <td>7.414872</td>\n",
       "      <td>3.947825</td>\n",
       "    </tr>\n",
       "    <tr>\n",
       "      <th>North America</th>\n",
       "      <td>9.155000</td>\n",
       "      <td>5.076482</td>\n",
       "    </tr>\n",
       "    <tr>\n",
       "      <th>Oceania</th>\n",
       "      <td>4.280000</td>\n",
       "      <td>2.671522</td>\n",
       "    </tr>\n",
       "    <tr>\n",
       "      <th>South America</th>\n",
       "      <td>9.924167</td>\n",
       "      <td>3.611624</td>\n",
       "    </tr>\n",
       "  </tbody>\n",
       "</table>\n",
       "</div>"
      ],
      "text/plain": [
       "               mean_rate_2021  std_rate_2021\n",
       "continent                                   \n",
       "Africa              10.473585       8.131636\n",
       "Asia                 6.906170       5.414745\n",
       "Europe               7.414872       3.947825\n",
       "North America        9.155000       5.076482\n",
       "Oceania              4.280000       2.671522\n",
       "South America        9.924167       3.611624"
      ]
     },
     "execution_count": 119,
     "metadata": {},
     "output_type": "execute_result"
    }
   ],
   "source": [
    "# groupby() views can be customized with user-defined column names and\n",
    "# specific aggregation functions per column \n",
    "\n",
    "continent_summary = unemployment.groupby('continent').agg(\n",
    "    mean_rate_2021=('2021','mean'),\n",
    "    std_rate_2021=('2021', 'std')\n",
    ")\n",
    "\n",
    "continent_summary"
   ]
  },
  {
   "cell_type": "code",
   "execution_count": 120,
   "id": "02328fcc",
   "metadata": {},
   "outputs": [
    {
     "data": {
      "image/png": "[encoded data removed]",
      "text/plain": [
       "<Figure size 640x480 with 1 Axes>"
      ]
     },
     "metadata": {},
     "output_type": "display_data"
    }
   ],
   "source": [
    "# Barplot automatically gets the average \n",
    "sns.barplot(unemployment, x='continent', y='2021')\n",
    "plt.show()"
   ]
  },
  {
   "cell_type": "code",
   "execution_count": 121,
   "id": "e0233ba9",
   "metadata": {},
   "outputs": [
    {
     "data": {
      "text/plain": [
       "Index(['continent'], dtype='object')"
      ]
     },
     "execution_count": 121,
     "metadata": {},
     "output_type": "execute_result"
    }
   ],
   "source": [
    "# Returns the columns where there are missing values\n",
    "\n",
    "unemployment.columns[unemployment.isna().sum() > 0]"
   ]
  },
  {
   "cell_type": "code",
   "execution_count": 122,
   "id": "8571a2ce",
   "metadata": {},
   "outputs": [
    {
     "data": {
      "text/html": [
       "<div>\n",
       "<style scoped>\n",
       "    .dataframe tbody tr th:only-of-type {\n",
       "        vertical-align: middle;\n",
       "    }\n",
       "\n",
       "    .dataframe tbody tr th {\n",
       "        vertical-align: top;\n",
       "    }\n",
       "\n",
       "    .dataframe thead th {\n",
       "        text-align: right;\n",
       "    }\n",
       "</style>\n",
       "<table border=\"1\" class=\"dataframe\">\n",
       "  <thead>\n",
       "    <tr style=\"text-align: right;\">\n",
       "      <th></th>\n",
       "      <th>country_name</th>\n",
       "      <th>continent</th>\n",
       "    </tr>\n",
       "  </thead>\n",
       "  <tbody>\n",
       "    <tr>\n",
       "      <th>65</th>\n",
       "      <td>Guam</td>\n",
       "      <td>NaN</td>\n",
       "    </tr>\n",
       "    <tr>\n",
       "      <th>67</th>\n",
       "      <td>Hong Kong SAR, China</td>\n",
       "      <td>NaN</td>\n",
       "    </tr>\n",
       "    <tr>\n",
       "      <th>99</th>\n",
       "      <td>Macao SAR, China</td>\n",
       "      <td>NaN</td>\n",
       "    </tr>\n",
       "    <tr>\n",
       "      <th>117</th>\n",
       "      <td>New Caledonia</td>\n",
       "      <td>NaN</td>\n",
       "    </tr>\n",
       "    <tr>\n",
       "      <th>132</th>\n",
       "      <td>Puerto Rico</td>\n",
       "      <td>NaN</td>\n",
       "    </tr>\n",
       "  </tbody>\n",
       "</table>\n",
       "</div>"
      ],
      "text/plain": [
       "             country_name continent\n",
       "65                   Guam       NaN\n",
       "67   Hong Kong SAR, China       NaN\n",
       "99       Macao SAR, China       NaN\n",
       "117         New Caledonia       NaN\n",
       "132           Puerto Rico       NaN"
      ]
     },
     "execution_count": 122,
     "metadata": {},
     "output_type": "execute_result"
    }
   ],
   "source": [
    "# Returns the specific data points with missing values for continent\n",
    "\n",
    "cols_with_na = unemployment.loc[unemployment['continent'].isna(), ['country_name', 'continent']]\n",
    "\n",
    "cols_with_na"
   ]
  },
  {
   "cell_type": "code",
   "execution_count": 123,
   "id": "afdc6e6f",
   "metadata": {},
   "outputs": [
    {
     "data": {
      "text/html": [
       "<div>\n",
       "<style scoped>\n",
       "    .dataframe tbody tr th:only-of-type {\n",
       "        vertical-align: middle;\n",
       "    }\n",
       "\n",
       "    .dataframe tbody tr th {\n",
       "        vertical-align: top;\n",
       "    }\n",
       "\n",
       "    .dataframe thead th {\n",
       "        text-align: right;\n",
       "    }\n",
       "</style>\n",
       "<table border=\"1\" class=\"dataframe\">\n",
       "  <thead>\n",
       "    <tr style=\"text-align: right;\">\n",
       "      <th></th>\n",
       "      <th>country_name</th>\n",
       "      <th>continent</th>\n",
       "    </tr>\n",
       "  </thead>\n",
       "  <tbody>\n",
       "    <tr>\n",
       "      <th>65</th>\n",
       "      <td>Guam</td>\n",
       "      <td>South America</td>\n",
       "    </tr>\n",
       "    <tr>\n",
       "      <th>67</th>\n",
       "      <td>Hong Kong SAR, China</td>\n",
       "      <td>Asia</td>\n",
       "    </tr>\n",
       "    <tr>\n",
       "      <th>99</th>\n",
       "      <td>Macao SAR, China</td>\n",
       "      <td>Asia</td>\n",
       "    </tr>\n",
       "    <tr>\n",
       "      <th>117</th>\n",
       "      <td>New Caledonia</td>\n",
       "      <td>Oceania</td>\n",
       "    </tr>\n",
       "    <tr>\n",
       "      <th>132</th>\n",
       "      <td>Puerto Rico</td>\n",
       "      <td>South America</td>\n",
       "    </tr>\n",
       "  </tbody>\n",
       "</table>\n",
       "</div>"
      ],
      "text/plain": [
       "             country_name      continent\n",
       "65                   Guam  South America\n",
       "67   Hong Kong SAR, China           Asia\n",
       "99       Macao SAR, China           Asia\n",
       "117         New Caledonia        Oceania\n",
       "132           Puerto Rico  South America"
      ]
     },
     "execution_count": 123,
     "metadata": {},
     "output_type": "execute_result"
    }
   ],
   "source": [
    "# Manual imputation\n",
    "\n",
    "unemployment.loc[65, 'continent'] = 'South America'\n",
    "unemployment.loc[67, 'continent'] = 'Asia'\n",
    "unemployment.loc[99, 'continent'] = 'Asia'\n",
    "unemployment.loc[117, 'continent'] = 'Oceania'\n",
    "unemployment.loc[132, 'continent'] = 'South America'\n",
    "\n",
    "unemployment.loc[[65, 67, 99, 117, 132], ['country_name','continent']]\n",
    "\n",
    "# Missing values now handled"
   ]
  },
  {
   "cell_type": "code",
   "execution_count": 124,
   "id": "bb35f94c",
   "metadata": {},
   "outputs": [],
   "source": [
    "planes = pd.read_csv('Data/planes.csv')"
   ]
  },
  {
   "cell_type": "code",
   "execution_count": 125,
   "id": "935f2e3a",
   "metadata": {},
   "outputs": [
    {
     "data": {
      "text/plain": [
       "Airline            427\n",
       "Date_of_Journey    322\n",
       "Source             187\n",
       "Destination        347\n",
       "Route              256\n",
       "Dep_Time           260\n",
       "Arrival_Time       194\n",
       "Duration           214\n",
       "Total_Stops        212\n",
       "Additional_Info    589\n",
       "Price              616\n",
       "dtype: int64"
      ]
     },
     "execution_count": 125,
     "metadata": {},
     "output_type": "execute_result"
    }
   ],
   "source": [
    "planes.isna().sum()"
   ]
  },
  {
   "cell_type": "code",
   "execution_count": 126,
   "id": "9afd2a7b",
   "metadata": {},
   "outputs": [],
   "source": [
    "# generally, missing values to be dropped typically account for 5% of the total data\n",
    "threshold = planes.shape[0] * 0.05\n",
    "\n",
    "cols_to_drop = planes.columns[planes.isna().sum() <= threshold]\n",
    "planes.dropna(subset=cols_to_drop, inplace=True)"
   ]
  },
  {
   "cell_type": "code",
   "execution_count": 127,
   "id": "b4bce9cf",
   "metadata": {},
   "outputs": [
    {
     "data": {
      "text/plain": [
       "Airline              0\n",
       "Date_of_Journey      0\n",
       "Source               0\n",
       "Destination          0\n",
       "Route                0\n",
       "Dep_Time             0\n",
       "Arrival_Time         0\n",
       "Duration             0\n",
       "Total_Stops          0\n",
       "Additional_Info    300\n",
       "Price              368\n",
       "dtype: int64"
      ]
     },
     "execution_count": 127,
     "metadata": {},
     "output_type": "execute_result"
    }
   ],
   "source": [
    "planes.isna().sum()"
   ]
  },
  {
   "cell_type": "code",
   "execution_count": 128,
   "id": "2a4210cc",
   "metadata": {},
   "outputs": [
    {
     "data": {
      "text/plain": [
       "Additional_Info\n",
       "No info                         6399\n",
       "In-flight meal not included     1525\n",
       "No check-in baggage included     258\n",
       "1 Long layover                    14\n",
       "Change airports                    7\n",
       "No Info                            2\n",
       "Business class                     1\n",
       "Red-eye flight                     1\n",
       "2 Long layover                     1\n",
       "Name: count, dtype: int64"
      ]
     },
     "execution_count": 128,
     "metadata": {},
     "output_type": "execute_result"
    }
   ],
   "source": [
    "planes['Additional_Info'].value_counts()"
   ]
  },
  {
   "cell_type": "code",
   "execution_count": 129,
   "id": "aa99e452",
   "metadata": {},
   "outputs": [
    {
     "data": {
      "image/png": "[encoded data removed]",
      "text/plain": [
       "<Figure size 640x480 with 1 Axes>"
      ]
     },
     "metadata": {},
     "output_type": "display_data"
    }
   ],
   "source": [
    "sns.boxplot(planes, y='Price', x='Airline')\n",
    "plt.show()"
   ]
  },
  {
   "cell_type": "code",
   "execution_count": 130,
   "id": "370f680e",
   "metadata": {},
   "outputs": [],
   "source": [
    "# The 'Additional_Info' column can be dropped since it does not provide\n",
    "# much help during the EDA process. It's also cluttery\n",
    "\n",
    "planes = planes.drop(columns='Additional_Info', axis=1)"
   ]
  },
  {
   "cell_type": "code",
   "execution_count": 131,
   "id": "9af30cc4",
   "metadata": {},
   "outputs": [
    {
     "data": {
      "text/html": [
       "<div>\n",
       "<style scoped>\n",
       "    .dataframe tbody tr th:only-of-type {\n",
       "        vertical-align: middle;\n",
       "    }\n",
       "\n",
       "    .dataframe tbody tr th {\n",
       "        vertical-align: top;\n",
       "    }\n",
       "\n",
       "    .dataframe thead th {\n",
       "        text-align: right;\n",
       "    }\n",
       "</style>\n",
       "<table border=\"1\" class=\"dataframe\">\n",
       "  <thead>\n",
       "    <tr style=\"text-align: right;\">\n",
       "      <th></th>\n",
       "      <th>Airline</th>\n",
       "      <th>Date_of_Journey</th>\n",
       "      <th>Source</th>\n",
       "      <th>Destination</th>\n",
       "      <th>Route</th>\n",
       "      <th>Dep_Time</th>\n",
       "      <th>Arrival_Time</th>\n",
       "      <th>Duration</th>\n",
       "      <th>Total_Stops</th>\n",
       "      <th>Price</th>\n",
       "    </tr>\n",
       "  </thead>\n",
       "  <tbody>\n",
       "    <tr>\n",
       "      <th>0</th>\n",
       "      <td>Jet Airways</td>\n",
       "      <td>9/06/2019</td>\n",
       "      <td>Delhi</td>\n",
       "      <td>Cochin</td>\n",
       "      <td>DEL → LKO → BOM → COK</td>\n",
       "      <td>09:25</td>\n",
       "      <td>04:25 10 Jun</td>\n",
       "      <td>19h</td>\n",
       "      <td>2 stops</td>\n",
       "      <td>13882.0</td>\n",
       "    </tr>\n",
       "    <tr>\n",
       "      <th>1</th>\n",
       "      <td>IndiGo</td>\n",
       "      <td>12/05/2019</td>\n",
       "      <td>Kolkata</td>\n",
       "      <td>Banglore</td>\n",
       "      <td>CCU → NAG → BLR</td>\n",
       "      <td>18:05</td>\n",
       "      <td>23:30</td>\n",
       "      <td>5h 25m</td>\n",
       "      <td>1 stop</td>\n",
       "      <td>6218.0</td>\n",
       "    </tr>\n",
       "    <tr>\n",
       "      <th>2</th>\n",
       "      <td>IndiGo</td>\n",
       "      <td>01/03/2019</td>\n",
       "      <td>Banglore</td>\n",
       "      <td>New Delhi</td>\n",
       "      <td>BLR → NAG → DEL</td>\n",
       "      <td>16:50</td>\n",
       "      <td>21:35</td>\n",
       "      <td>4h 45m</td>\n",
       "      <td>1 stop</td>\n",
       "      <td>13302.0</td>\n",
       "    </tr>\n",
       "    <tr>\n",
       "      <th>3</th>\n",
       "      <td>SpiceJet</td>\n",
       "      <td>24/06/2019</td>\n",
       "      <td>Kolkata</td>\n",
       "      <td>Banglore</td>\n",
       "      <td>CCU → BLR</td>\n",
       "      <td>09:00</td>\n",
       "      <td>11:25</td>\n",
       "      <td>2h 25m</td>\n",
       "      <td>non-stop</td>\n",
       "      <td>3873.0</td>\n",
       "    </tr>\n",
       "    <tr>\n",
       "      <th>4</th>\n",
       "      <td>Jet Airways</td>\n",
       "      <td>12/03/2019</td>\n",
       "      <td>Banglore</td>\n",
       "      <td>New Delhi</td>\n",
       "      <td>BLR → BOM → DEL</td>\n",
       "      <td>18:55</td>\n",
       "      <td>10:25 13 Mar</td>\n",
       "      <td>15h 30m</td>\n",
       "      <td>1 stop</td>\n",
       "      <td>11087.0</td>\n",
       "    </tr>\n",
       "  </tbody>\n",
       "</table>\n",
       "</div>"
      ],
      "text/plain": [
       "       Airline Date_of_Journey    Source Destination                  Route  \\\n",
       "0  Jet Airways       9/06/2019     Delhi      Cochin  DEL → LKO → BOM → COK   \n",
       "1       IndiGo      12/05/2019   Kolkata    Banglore        CCU → NAG → BLR   \n",
       "2       IndiGo      01/03/2019  Banglore   New Delhi        BLR → NAG → DEL   \n",
       "3     SpiceJet      24/06/2019   Kolkata    Banglore              CCU → BLR   \n",
       "4  Jet Airways      12/03/2019  Banglore   New Delhi        BLR → BOM → DEL   \n",
       "\n",
       "  Dep_Time  Arrival_Time Duration Total_Stops    Price  \n",
       "0    09:25  04:25 10 Jun      19h     2 stops  13882.0  \n",
       "1    18:05         23:30   5h 25m      1 stop   6218.0  \n",
       "2    16:50         21:35   4h 45m      1 stop  13302.0  \n",
       "3    09:00         11:25   2h 25m    non-stop   3873.0  \n",
       "4    18:55  10:25 13 Mar  15h 30m      1 stop  11087.0  "
      ]
     },
     "execution_count": 131,
     "metadata": {},
     "output_type": "execute_result"
    }
   ],
   "source": [
    "planes.head()"
   ]
  },
  {
   "cell_type": "code",
   "execution_count": 132,
   "id": "65754b81",
   "metadata": {},
   "outputs": [
    {
     "data": {
      "text/plain": [
       "Airline            0\n",
       "Date_of_Journey    0\n",
       "Source             0\n",
       "Destination        0\n",
       "Route              0\n",
       "Dep_Time           0\n",
       "Arrival_Time       0\n",
       "Duration           0\n",
       "Total_Stops        0\n",
       "Price              0\n",
       "dtype: int64"
      ]
     },
     "execution_count": 132,
     "metadata": {},
     "output_type": "execute_result"
    }
   ],
   "source": [
    "# calculating median price per airline and converting it to a dictionary for imputation\n",
    "airline_prices = planes.groupby('Airline')['Price'].agg('median')\n",
    "prices_dict = airline_prices.to_dict()\n",
    "\n",
    "# mapping the missing prices using the dictionary for each airline\n",
    "# 'inplace = True' may also be used instead of reassigning to the dataframe\n",
    "\n",
    "planes['Price'] = planes['Price'].fillna(planes['Airline'].map(prices_dict))\n",
    "\n",
    "planes.isna().sum()"
   ]
  },
  {
   "cell_type": "code",
   "execution_count": 133,
   "id": "80b38820",
   "metadata": {},
   "outputs": [
    {
     "name": "stdout",
     "output_type": "stream",
     "text": [
      "Number of unique values in Airline column:  8\n",
      "Number of unique values in Date_of_Journey column:  44\n",
      "Number of unique values in Source column:  5\n",
      "Number of unique values in Destination column:  6\n",
      "Number of unique values in Route column:  122\n",
      "Number of unique values in Dep_Time column:  218\n",
      "Number of unique values in Arrival_Time column:  1220\n",
      "Number of unique values in Duration column:  362\n",
      "Number of unique values in Total_Stops column:  5\n"
     ]
    }
   ],
   "source": [
    "# CATEGORICAL DATA\n",
    "# the code below demonstrates a technique for aggregating categorical data when\n",
    "# 're-categorization' is required in order to better describe said data (e.g.: plotting)\n",
    "\n",
    "\n",
    "import numpy as np  # we use numpy for 'np.select()'\n",
    "\n",
    "\n",
    "non_numeric = planes.select_dtypes('object')\n",
    "\n",
    "for col in non_numeric.columns:\n",
    "    print(f'Number of unique values in {col} column: ', non_numeric[col].nunique())"
   ]
  },
  {
   "cell_type": "code",
   "execution_count": 134,
   "id": "4e21119f",
   "metadata": {},
   "outputs": [
    {
     "data": {
      "text/plain": [
       "0        19h\n",
       "1     5h 25m\n",
       "2     4h 45m\n",
       "3     2h 25m\n",
       "4    15h 30m\n",
       "Name: Duration, dtype: object"
      ]
     },
     "execution_count": 134,
     "metadata": {},
     "output_type": "execute_result"
    }
   ],
   "source": [
    "planes['Duration'].head()\n",
    "\n",
    "# It would be tedious to illustrate flight duration with its current formatting.\n",
    "# To make this data suitable for visualization, we can categorize the duration column"
   ]
  },
  {
   "cell_type": "code",
   "execution_count": 135,
   "id": "d324f81e",
   "metadata": {},
   "outputs": [
    {
     "data": {
      "text/plain": [
       "0         Other\n",
       "1        Medium\n",
       "2    Short-haul\n",
       "3    Short-haul\n",
       "4     Long-haul\n",
       "Name: Duration_Category, dtype: object"
      ]
     },
     "execution_count": 135,
     "metadata": {},
     "output_type": "execute_result"
    }
   ],
   "source": [
    "flight_categories = ['Short-haul', 'Medium', 'Long-haul']\n",
    "short_flights = '^0h|^1h|^2h|^3h|^4h'   #add carets to each value to avoid mistakingly assigning '10h' as a short flight\n",
    "medium_flights = '^5h|^6h|^7h|^8h|^9h'\n",
    "long_flights = '^10h|^11h|^12h|^13h|^14h|^15h|^16h'\n",
    "\n",
    "conditions = [\n",
    "    (planes['Duration'].str.contains(short_flights)),\n",
    "    (planes['Duration'].str.contains(medium_flights)),\n",
    "    (planes['Duration'].str.contains(long_flights))\n",
    "]\n",
    "\n",
    "planes['Duration_Category'] = np.select(\n",
    "    conditions, flight_categories, default='Other'\n",
    "    )\n",
    "\n",
    "planes['Duration_Category'].head()"
   ]
  },
  {
   "cell_type": "code",
   "execution_count": 136,
   "id": "27328718",
   "metadata": {},
   "outputs": [
    {
     "data": {
      "image/png": "[encoded data removed]",
      "text/plain": [
       "<Figure size 640x480 with 1 Axes>"
      ]
     },
     "metadata": {},
     "output_type": "display_data"
    }
   ],
   "source": [
    "sns.countplot(planes, x='Duration_Category')\n",
    "plt.show()\n",
    "# Flight duration appropriately visualized"
   ]
  },
  {
   "cell_type": "code",
   "execution_count": 137,
   "id": "0efac960",
   "metadata": {},
   "outputs": [
    {
     "name": "stdout",
     "output_type": "stream",
     "text": [
      "   A  B\n",
      "0  9  3\n",
      "1  8  1\n",
      "2  9  6\n",
      "\n",
      "0    12\n",
      "1     9\n",
      "2    15\n",
      "dtype: int64\n"
     ]
    }
   ],
   "source": [
    "# Just a note to remember how axes work in Pandas, lol\n",
    "dff = pd.DataFrame(np.random.randint(1, 10, size=(3, 2)), columns=list('AB'))\n",
    "\n",
    "print(dff)\n",
    "print()\n",
    "print(dff.sum(axis=1))"
   ]
  },
  {
   "cell_type": "code",
   "execution_count": 152,
   "id": "dae41366",
   "metadata": {},
   "outputs": [
    {
     "data": {
      "text/plain": [
       "Airline            airline_price_st_dev\n",
       "Jet Airways        4159.846432             3082\n",
       "IndiGo             2245.529140             1632\n",
       "Air India          3692.609285             1399\n",
       "Multiple carriers  3558.323763              959\n",
       "SpiceJet           1798.900648              653\n",
       "Vistara            2888.915498              376\n",
       "Air Asia           1979.826234              260\n",
       "GoAir              2764.926625              147\n",
       "Name: count, dtype: int64"
      ]
     },
     "execution_count": 152,
     "metadata": {},
     "output_type": "execute_result"
    }
   ],
   "source": [
    "# NUMERICAL DATA\n",
    "# Here, we want to add a summary statistic to our dataframe; that is \n",
    "# price std_dev for each airline\n",
    "\n",
    "planes['airline_price_st_dev'] = planes.groupby('Airline')['Price'].transform(lambda x : x.std())\n",
    "planes[['Airline', 'airline_price_st_dev']].value_counts()"
   ]
  },
  {
   "cell_type": "code",
   "execution_count": 160,
   "id": "8cad11c4",
   "metadata": {},
   "outputs": [
    {
     "data": {
      "image/png": "[encoded data removed]",
      "text/plain": [
       "<Figure size 640x480 with 1 Axes>"
      ]
     },
     "metadata": {},
     "output_type": "display_data"
    },
    {
     "name": "stdout",
     "output_type": "stream",
     "text": [
      "count     8508.000000\n",
      "mean      9033.468441\n",
      "std       4366.382574\n",
      "min       1759.000000\n",
      "25%       5228.000000\n",
      "50%       8452.000000\n",
      "75%      12242.000000\n",
      "max      54826.000000\n",
      "Name: Price, dtype: float64\n"
     ]
    }
   ],
   "source": [
    "# OUTLIERS\n",
    "\n",
    "sns.histplot(data=planes, x='Price')\n",
    "plt.show()\n",
    "\n",
    "print(planes['Price'].describe())\n",
    "# Notice the distribution is right-skewed due to upper extreme values"
   ]
  },
  {
   "cell_type": "code",
   "execution_count": 167,
   "id": "eefff93c",
   "metadata": {},
   "outputs": [
    {
     "name": "stdout",
     "output_type": "stream",
     "text": [
      "Lower Bound : -5293.0  Upper Bound 22763.0\n",
      "\n"
     ]
    }
   ],
   "source": [
    "# Calculated IQR to find outliers beyond the upper and lower limits.\n",
    "# Also subset the data excluding extreme values\n",
    "\n",
    "percentile_25 = planes['Price'].quantile(0.25)\n",
    "percentile_75 = planes['Price'].quantile(0.75)\n",
    "planes_IQR = percentile_75 - percentile_25\n",
    "\n",
    "outlier_lower_bound = percentile_25 - (1.5 * planes_IQR)\n",
    "outlier_upper_bound = percentile_75 + (1.5 * planes_IQR)\n",
    "\n",
    "print(f'Lower Bound : {outlier_lower_bound}  Upper Bound {outlier_upper_bound}\\n')\n",
    "\n",
    "no_price_outliers = planes[ (planes['Price'] > outlier_lower_bound) & (planes['Price'] < outlier_upper_bound) ]\n"
   ]
  }
 ],
 "metadata": {
  "kernelspec": {
   "display_name": "base",
   "language": "python",
   "name": "python3"
  },
  "language_info": {
   "codemirror_mode": {
    "name": "ipython",
    "version": 3
   },
   "file_extension": ".py",
   "mimetype": "text/x-python",
   "name": "python",
   "nbconvert_exporter": "python",
   "pygments_lexer": "ipython3",
   "version": "3.12.7"
  }
 },
 "nbformat": 4,
 "nbformat_minor": 5
}
