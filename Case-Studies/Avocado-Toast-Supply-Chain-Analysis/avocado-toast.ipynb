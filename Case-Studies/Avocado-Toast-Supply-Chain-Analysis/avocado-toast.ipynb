{
 "cells": [
  {
   "cell_type": "markdown",
   "id": "a60b1378",
   "metadata": {},
   "source": [
    "# What's in an Avocado Toast: A Supply Chain Analysis"
   ]
  },
  {
   "cell_type": "markdown",
   "id": "05a6f115",
   "metadata": {},
   "source": [
    "You find yourself in London, crafting a delectable avocado toast, a dish that has risen dramatically in popularity on breakfast menus since the 2010s. This straightforward recipe requires just five ingredients: a ripe avocado, half a lemon, a generous pinch of salt flakes, two slices of sourdough bread, and a good drizzle of extra virgin olive oil. Most of these ingredients are now staples in grocery stores, and as you will find with this project, that is no small feat!\n",
    "\n",
    "In this project, you'll conduct a supply chain analysis of three ingredients used in avocado toast using the Open Food Facts database. This database contains extensive, openly-sourced information on various foods, including their origins. Through this analysis, you will gain an in-depth understanding of the complex supply chain involved in producing a single dish."
   ]
  },
  {
   "cell_type": "markdown",
   "id": "8c908e25",
   "metadata": {},
   "source": [
    "Apply your data manipulation and analysis skills to investigate the supply chain of ingredients for making avocado toast in the U.K. Your task is to determine the following information:\n",
    "\n",
    "- The name of the most common country of origin for each of the three key ingredients: avocados, olive oil, and sourdough.\n",
    "\n",
    "Store the most common country of origin for each ingredient in the following variables: `top_avocado_origin`, `top_olive_oil_origin`, and `top_sourdough_origin`. Ensure that the country names contain only letters (A-Z) and spaces, with no hyphens or other characters.\n",
    "\n",
    "To focus your analysis, subset each of the DataFrames to include only these relevant columns: 'code', 'lc', 'productnameen', 'quantity', 'servingsize', 'packagingtags', 'brands', 'brandstags', 'categoriestags', 'labelstags', 'countries', 'countriestags', 'origins', 'origins_tags'."
   ]
  },
  {
   "cell_type": "code",
   "execution_count": null,
   "id": "e264150a",
   "metadata": {},
   "outputs": [],
   "source": [
    "import pandas as pd\n",
    "\n"
   ]
  }
 ],
 "metadata": {
  "kernelspec": {
   "display_name": "base",
   "language": "python",
   "name": "python3"
  },
  "language_info": {
   "codemirror_mode": {
    "name": "ipython",
    "version": 3
   },
   "file_extension": ".py",
   "mimetype": "text/x-python",
   "name": "python",
   "nbconvert_exporter": "python",
   "pygments_lexer": "ipython3",
   "version": "3.12.7"
  }
 },
 "nbformat": 4,
 "nbformat_minor": 5
}
