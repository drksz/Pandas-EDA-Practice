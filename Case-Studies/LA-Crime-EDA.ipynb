{
 "cells": [
  {
   "cell_type": "markdown",
   "id": "96c8f6b0",
   "metadata": {},
   "source": [
    "## ANALYZING CRIME IN LOS ANGELES\n",
    "\n",
    "### Answer the following questions: \n",
    " - Which hour has the highest frequency of crimes? Store as an integer variable called `peak_crime_hour`.\n",
    " - Which area has the largest frequency of night crimes (crimes committed between 10PM and 3:59AM)? Save as a string\n",
    " variable called `peak_night_crime_location`.\n",
    " - Identify the number of crimes committed against victims of different age groups. Save as a pandas Series called victim_ages, with age group labels `\"0-17\"`, `\"18-25\"`, `\"26-34\"`, `\"35-44\"`, `\"45-54\"`, `\"55-64\"`, and `\"65+\"` as the index and the frequency of crimes as the values.\n"
   ]
  },
  {
   "cell_type": "code",
   "execution_count": null,
   "id": "dd4c99fa",
   "metadata": {},
   "outputs": [],
   "source": [
    "import pandas as pd \n",
    "#import matplotlib.pyplot as plt\n",
    "#import seaborn as sns\n",
    "\n",
    "crime = pd.read_csv('../Data/crimes.csv')"
   ]
  },
  {
   "cell_type": "code",
   "execution_count": 87,
   "id": "6232e31b",
   "metadata": {},
   "outputs": [
    {
     "data": {
      "text/html": [
       "<div>\n",
       "<style scoped>\n",
       "    .dataframe tbody tr th:only-of-type {\n",
       "        vertical-align: middle;\n",
       "    }\n",
       "\n",
       "    .dataframe tbody tr th {\n",
       "        vertical-align: top;\n",
       "    }\n",
       "\n",
       "    .dataframe thead th {\n",
       "        text-align: right;\n",
       "    }\n",
       "</style>\n",
       "<table border=\"1\" class=\"dataframe\">\n",
       "  <thead>\n",
       "    <tr style=\"text-align: right;\">\n",
       "      <th></th>\n",
       "      <th>DR_NO</th>\n",
       "      <th>Date Rptd</th>\n",
       "      <th>DATE OCC</th>\n",
       "      <th>TIME OCC</th>\n",
       "      <th>AREA NAME</th>\n",
       "      <th>Crm Cd Desc</th>\n",
       "      <th>Vict Age</th>\n",
       "      <th>Vict Sex</th>\n",
       "      <th>Vict Descent</th>\n",
       "      <th>Weapon Desc</th>\n",
       "      <th>Status Desc</th>\n",
       "      <th>LOCATION</th>\n",
       "    </tr>\n",
       "  </thead>\n",
       "  <tbody>\n",
       "    <tr>\n",
       "      <th>0</th>\n",
       "      <td>220314085</td>\n",
       "      <td>2022-07-22</td>\n",
       "      <td>2020-05-12</td>\n",
       "      <td>1110</td>\n",
       "      <td>Southwest</td>\n",
       "      <td>THEFT OF IDENTITY</td>\n",
       "      <td>27</td>\n",
       "      <td>F</td>\n",
       "      <td>B</td>\n",
       "      <td>NaN</td>\n",
       "      <td>Invest Cont</td>\n",
       "      <td>2500 S  SYCAMORE                     AV</td>\n",
       "    </tr>\n",
       "    <tr>\n",
       "      <th>1</th>\n",
       "      <td>222013040</td>\n",
       "      <td>2022-08-06</td>\n",
       "      <td>2020-06-04</td>\n",
       "      <td>1620</td>\n",
       "      <td>Olympic</td>\n",
       "      <td>THEFT OF IDENTITY</td>\n",
       "      <td>60</td>\n",
       "      <td>M</td>\n",
       "      <td>H</td>\n",
       "      <td>NaN</td>\n",
       "      <td>Invest Cont</td>\n",
       "      <td>3300    SAN MARINO                   ST</td>\n",
       "    </tr>\n",
       "    <tr>\n",
       "      <th>2</th>\n",
       "      <td>220614831</td>\n",
       "      <td>2022-08-18</td>\n",
       "      <td>2020-08-17</td>\n",
       "      <td>1200</td>\n",
       "      <td>Hollywood</td>\n",
       "      <td>THEFT OF IDENTITY</td>\n",
       "      <td>28</td>\n",
       "      <td>M</td>\n",
       "      <td>H</td>\n",
       "      <td>NaN</td>\n",
       "      <td>Invest Cont</td>\n",
       "      <td>1900    TRANSIENT</td>\n",
       "    </tr>\n",
       "  </tbody>\n",
       "</table>\n",
       "</div>"
      ],
      "text/plain": [
       "       DR_NO   Date Rptd    DATE OCC  TIME OCC  AREA NAME        Crm Cd Desc  \\\n",
       "0  220314085  2022-07-22  2020-05-12      1110  Southwest  THEFT OF IDENTITY   \n",
       "1  222013040  2022-08-06  2020-06-04      1620    Olympic  THEFT OF IDENTITY   \n",
       "2  220614831  2022-08-18  2020-08-17      1200  Hollywood  THEFT OF IDENTITY   \n",
       "\n",
       "   Vict Age Vict Sex Vict Descent Weapon Desc  Status Desc  \\\n",
       "0        27        F            B         NaN  Invest Cont   \n",
       "1        60        M            H         NaN  Invest Cont   \n",
       "2        28        M            H         NaN  Invest Cont   \n",
       "\n",
       "                                  LOCATION  \n",
       "0  2500 S  SYCAMORE                     AV  \n",
       "1  3300    SAN MARINO                   ST  \n",
       "2                        1900    TRANSIENT  "
      ]
     },
     "execution_count": 87,
     "metadata": {},
     "output_type": "execute_result"
    }
   ],
   "source": [
    "crime.head(3)"
   ]
  },
  {
   "cell_type": "code",
   "execution_count": 88,
   "id": "ddbf68ef",
   "metadata": {},
   "outputs": [
    {
     "name": "stdout",
     "output_type": "stream",
     "text": [
      "<class 'pandas.core.frame.DataFrame'>\n",
      "RangeIndex: 185715 entries, 0 to 185714\n",
      "Data columns (total 12 columns):\n",
      " #   Column        Non-Null Count   Dtype \n",
      "---  ------        --------------   ----- \n",
      " 0   DR_NO         185715 non-null  int64 \n",
      " 1   Date Rptd     185715 non-null  object\n",
      " 2   DATE OCC      185715 non-null  object\n",
      " 3   TIME OCC      185715 non-null  int64 \n",
      " 4   AREA NAME     185715 non-null  object\n",
      " 5   Crm Cd Desc   185715 non-null  object\n",
      " 6   Vict Age      185715 non-null  int64 \n",
      " 7   Vict Sex      185704 non-null  object\n",
      " 8   Vict Descent  185705 non-null  object\n",
      " 9   Weapon Desc   73502 non-null   object\n",
      " 10  Status Desc   185715 non-null  object\n",
      " 11  LOCATION      185715 non-null  object\n",
      "dtypes: int64(3), object(9)\n",
      "memory usage: 17.0+ MB\n"
     ]
    }
   ],
   "source": [
    "crime.info()"
   ]
  },
  {
   "cell_type": "code",
   "execution_count": 89,
   "id": "d348d006",
   "metadata": {},
   "outputs": [
    {
     "data": {
      "text/plain": [
       "(185715, 12)"
      ]
     },
     "execution_count": 89,
     "metadata": {},
     "output_type": "execute_result"
    }
   ],
   "source": [
    "crime.shape"
   ]
  },
  {
   "cell_type": "code",
   "execution_count": 90,
   "id": "05b80f6b",
   "metadata": {},
   "outputs": [
    {
     "data": {
      "text/plain": [
       "0        2020-05-12\n",
       "1        2020-06-04\n",
       "2        2020-08-17\n",
       "3        2020-01-27\n",
       "4        2020-07-14\n",
       "            ...    \n",
       "185710   2023-05-25\n",
       "185711   2023-01-26\n",
       "185712   2023-03-22\n",
       "185713   2023-04-12\n",
       "185714   2023-03-05\n",
       "Name: DATE OCC, Length: 185715, dtype: datetime64[ns]"
      ]
     },
     "execution_count": 90,
     "metadata": {},
     "output_type": "execute_result"
    }
   ],
   "source": [
    "# Converting 'Date Rptd' and 'DATE OCC' column data type into datetime\n",
    "\n",
    "crime['Date Rptd'] = pd.to_datetime(crime['Date Rptd'], format='%Y-%m-%d')\n",
    "crime['DATE OCC'] = pd.to_datetime(crime['DATE OCC'], format='%Y-%m-%d')\n",
    "crime['DATE OCC']\n"
   ]
  },
  {
   "cell_type": "code",
   "execution_count": 91,
   "id": "ce1c95d2",
   "metadata": {},
   "outputs": [],
   "source": [
    "# Converting 'TIME OCC' to a timestamp\n",
    "\n",
    "crime['TIME OCC'] = crime['TIME OCC'].astype(str)\n",
    "crime['TIME OCC'] = crime['TIME OCC'].str.zfill(4)\n",
    "dt_time_format = pd.to_datetime(crime['TIME OCC'], format='%H%M')\n",
    "crime['TIME OCC'] = dt_time_format.dt.time"
   ]
  },
  {
   "cell_type": "code",
   "execution_count": 92,
   "id": "b539acf4",
   "metadata": {},
   "outputs": [],
   "source": [
    "# Creating a new column to extract the hour component for each crime occurrence \n",
    "\n",
    "crime['Hour Occurred'] = dt_time_format.dt.hour\n",
    "\n",
    "# Counting the frequency of crimes for each hour to see which one \n",
    "# has the highest number of occurrences\n",
    "\n",
    "crime_freq_per_hr = crime['Hour Occurred'].value_counts()\n"
   ]
  },
  {
   "cell_type": "markdown",
   "id": "bedccc57",
   "metadata": {},
   "source": [
    "Which hour has the highest frequency of crimes? Store as an integer variable called `peak_crime_hour`."
   ]
  },
  {
   "cell_type": "code",
   "execution_count": 93,
   "id": "dbd3d7e4",
   "metadata": {},
   "outputs": [
    {
     "data": {
      "text/plain": [
       "12"
      ]
     },
     "execution_count": 93,
     "metadata": {},
     "output_type": "execute_result"
    }
   ],
   "source": [
    "# Answer for Question #1\n",
    "\n",
    "peak_crime_hour = crime_freq_per_hr.idxmax()\n",
    "peak_crime_hour"
   ]
  },
  {
   "cell_type": "code",
   "execution_count": 94,
   "id": "1f79f5c6",
   "metadata": {},
   "outputs": [
    {
     "data": {
      "text/plain": [
       "AREA NAME\n",
       "Central        4909\n",
       "77th Street    3642\n",
       "Hollywood      3581\n",
       "Southwest      3455\n",
       "Olympic        3162\n",
       "Southeast      3105\n",
       "Pacific        2954\n",
       "Newton         2940\n",
       "Rampart        2673\n",
       "N Hollywood    2660\n",
       "Van Nuys       2537\n",
       "Wilshire       2527\n",
       "Northeast      2451\n",
       "West Valley    2374\n",
       "Topanga        2329\n",
       "West LA        2157\n",
       "Mission        2112\n",
       "Devonshire     2108\n",
       "Harbor         2053\n",
       "Hollenbeck     1933\n",
       "Foothill       1801\n",
       "Name: count, dtype: int64"
      ]
     },
     "execution_count": 94,
     "metadata": {},
     "output_type": "execute_result"
    }
   ],
   "source": [
    "# Subsetting for crimes committed at night (20:00 to 03:59)\n",
    "\n",
    "crimes_at_night = crime[\n",
    "    (crime['Hour Occurred'] >= 20) | (crime['Hour Occurred'] <= 3)]\n",
    "\n",
    "crimes_at_night['AREA NAME'].value_counts()"
   ]
  },
  {
   "cell_type": "markdown",
   "id": "a28d5e4a",
   "metadata": {},
   "source": [
    "Which area has the largest frequency of night crimes (crimes committed between 10PM and 3:59AM)? Save as a string\n",
    " variable called `peak_night_crime_location`."
   ]
  },
  {
   "cell_type": "code",
   "execution_count": 95,
   "id": "11ec5b40",
   "metadata": {},
   "outputs": [
    {
     "data": {
      "text/plain": [
       "'Central'"
      ]
     },
     "execution_count": 95,
     "metadata": {},
     "output_type": "execute_result"
    }
   ],
   "source": [
    "# Answer to question #2\n",
    "\n",
    "peak_night_crime_location = crimes_at_night['AREA NAME'].value_counts().idxmax()\n",
    "peak_night_crime_location"
   ]
  },
  {
   "cell_type": "code",
   "execution_count": 96,
   "id": "1d511299",
   "metadata": {},
   "outputs": [
    {
     "data": {
      "text/plain": [
       "['DR_NO',\n",
       " 'Date Rptd',\n",
       " 'DATE OCC',\n",
       " 'TIME OCC',\n",
       " 'AREA NAME',\n",
       " 'Crm Cd Desc',\n",
       " 'Vict Age',\n",
       " 'Vict Sex',\n",
       " 'Vict Descent',\n",
       " 'Weapon Desc',\n",
       " 'Status Desc',\n",
       " 'LOCATION',\n",
       " 'Hour Occurred']"
      ]
     },
     "execution_count": 96,
     "metadata": {},
     "output_type": "execute_result"
    }
   ],
   "source": [
    "list(crime.columns)"
   ]
  },
  {
   "cell_type": "markdown",
   "id": "eabd494d",
   "metadata": {},
   "source": [
    "Identify the number of crimes committed against victims of different age groups. Save as a pandas Series called `victim_ages`, with age group labels `\"0-17\"`, `\"18-25\"`, `\"26-34\"`, `\"35-44\"`, `\"45-54\"`, `\"55-64\"`, and `\"65+\"` as the index and the frequency of crimes as the values."
   ]
  },
  {
   "cell_type": "code",
   "execution_count": 112,
   "id": "ea328323",
   "metadata": {},
   "outputs": [],
   "source": [
    "# Remember that bin upper values are inclusive!\n",
    "\n",
    "age_bins = [0, 17, 25, 34, 44, 54, 64, 100]\n",
    "age_groups = ['0-17','18-25','26-34','35-44','45-54','55-64','65+']\n",
    "age_group_series = pd.cut(crime['Vict Age'], bins=age_bins, labels=age_groups)"
   ]
  },
  {
   "cell_type": "code",
   "execution_count": 111,
   "id": "d87eb3e1",
   "metadata": {},
   "outputs": [
    {
     "data": {
      "text/plain": [
       "Vict Age\n",
       "0-17      4528\n",
       "18-25    28291\n",
       "26-34    47470\n",
       "35-44    42157\n",
       "45-54    28353\n",
       "55-64    20169\n",
       "65+      14747\n",
       "Name: count, dtype: int64"
      ]
     },
     "execution_count": 111,
     "metadata": {},
     "output_type": "execute_result"
    }
   ],
   "source": [
    "victim_ages = age_group_series.value_counts()\n",
    "victim_ages = victim_ages.reindex(age_groups)\n",
    "victim_ages"
   ]
  }
 ],
 "metadata": {
  "kernelspec": {
   "display_name": "base",
   "language": "python",
   "name": "python3"
  },
  "language_info": {
   "codemirror_mode": {
    "name": "ipython",
    "version": 3
   },
   "file_extension": ".py",
   "mimetype": "text/x-python",
   "name": "python",
   "nbconvert_exporter": "python",
   "pygments_lexer": "ipython3",
   "version": "3.12.7"
  }
 },
 "nbformat": 4,
 "nbformat_minor": 5
}
