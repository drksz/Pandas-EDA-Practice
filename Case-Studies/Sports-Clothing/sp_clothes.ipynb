{
 "cells": [
  {
   "cell_type": "markdown",
   "id": "cad19005",
   "metadata": {},
   "source": [
    "# To complete the project, you will need to merge the datasets, drop null values, and answer the questions below.\n",
    "\n",
    "What is the volume of products and average revenue for Adidas and Nike products based on listing price quartiles?\n",
    "\n",
    "Label products priced up to quartile one as \"Budget\", quartile two as \"Average\", quartile three as \"Expensive\", and quartile four as \"Elite\".\n",
    "Store as a pandas DataFrame called adidas_vs_nike containing columns: \"brand\", \"price_label\", \"num_products\", and \"mean_revenue\". All numeric values should be rounded to two decimal places.\n",
    "\n",
    "Do any differences exist between the word count of a product's description and its mean rating?\n",
    "\n",
    "Split product description length into bins of 100-character intervals and calculate the average rating and total number of reviews.\n",
    "Store the results as a pandas DataFrame called description_lengths containing columns: \"description_length\", \"mean_rating\", \"total_reviews\". Again, round numeric values to two decimal places."
   ]
  },
  {
   "cell_type": "code",
   "execution_count": 13,
   "id": "58a16c55",
   "metadata": {},
   "outputs": [],
   "source": [
    "import pandas as pd\n",
    "\n",
    "brands = pd.read_csv(\"Data/brands.csv\") \n",
    "finance = pd.read_csv(\"Data/finance.csv\")\n",
    "info = pd.read_csv(\"Data/info.csv\")\n",
    "reviews = pd.read_csv(\"Data/reviews.csv\")"
   ]
  },
  {
   "cell_type": "code",
   "execution_count": 14,
   "id": "6e2c3faa",
   "metadata": {},
   "outputs": [
    {
     "data": {
      "text/html": [
       "<div>\n",
       "<style scoped>\n",
       "    .dataframe tbody tr th:only-of-type {\n",
       "        vertical-align: middle;\n",
       "    }\n",
       "\n",
       "    .dataframe tbody tr th {\n",
       "        vertical-align: top;\n",
       "    }\n",
       "\n",
       "    .dataframe thead th {\n",
       "        text-align: right;\n",
       "    }\n",
       "</style>\n",
       "<table border=\"1\" class=\"dataframe\">\n",
       "  <thead>\n",
       "    <tr style=\"text-align: right;\">\n",
       "      <th></th>\n",
       "      <th>product_id</th>\n",
       "      <th>brand</th>\n",
       "      <th>listing_price</th>\n",
       "      <th>sale_price</th>\n",
       "      <th>discount</th>\n",
       "      <th>revenue</th>\n",
       "    </tr>\n",
       "  </thead>\n",
       "  <tbody>\n",
       "    <tr>\n",
       "      <th>0</th>\n",
       "      <td>AH2430</td>\n",
       "      <td>NaN</td>\n",
       "      <td>NaN</td>\n",
       "      <td>NaN</td>\n",
       "      <td>NaN</td>\n",
       "      <td>NaN</td>\n",
       "    </tr>\n",
       "    <tr>\n",
       "      <th>1</th>\n",
       "      <td>G27341</td>\n",
       "      <td>Adidas</td>\n",
       "      <td>75.99</td>\n",
       "      <td>37.99</td>\n",
       "      <td>0.5</td>\n",
       "      <td>1641.17</td>\n",
       "    </tr>\n",
       "    <tr>\n",
       "      <th>2</th>\n",
       "      <td>CM0081</td>\n",
       "      <td>Adidas</td>\n",
       "      <td>9.99</td>\n",
       "      <td>5.99</td>\n",
       "      <td>0.4</td>\n",
       "      <td>398.93</td>\n",
       "    </tr>\n",
       "    <tr>\n",
       "      <th>3</th>\n",
       "      <td>B44832</td>\n",
       "      <td>Adidas</td>\n",
       "      <td>69.99</td>\n",
       "      <td>34.99</td>\n",
       "      <td>0.5</td>\n",
       "      <td>2204.37</td>\n",
       "    </tr>\n",
       "    <tr>\n",
       "      <th>4</th>\n",
       "      <td>D98205</td>\n",
       "      <td>Adidas</td>\n",
       "      <td>79.99</td>\n",
       "      <td>39.99</td>\n",
       "      <td>0.5</td>\n",
       "      <td>5182.70</td>\n",
       "    </tr>\n",
       "  </tbody>\n",
       "</table>\n",
       "</div>"
      ],
      "text/plain": [
       "  product_id   brand  listing_price  sale_price  discount  revenue\n",
       "0     AH2430     NaN            NaN         NaN       NaN      NaN\n",
       "1     G27341  Adidas          75.99       37.99       0.5  1641.17\n",
       "2     CM0081  Adidas           9.99        5.99       0.4   398.93\n",
       "3     B44832  Adidas          69.99       34.99       0.5  2204.37\n",
       "4     D98205  Adidas          79.99       39.99       0.5  5182.70"
      ]
     },
     "execution_count": 14,
     "metadata": {},
     "output_type": "execute_result"
    }
   ],
   "source": [
    "brands_finance = brands.merge(finance, on='product_id')\n",
    "brands_finance.head()"
   ]
  },
  {
   "cell_type": "code",
   "execution_count": 15,
   "id": "3b2d6df8",
   "metadata": {},
   "outputs": [
    {
     "data": {
      "text/html": [
       "<div>\n",
       "<style scoped>\n",
       "    .dataframe tbody tr th:only-of-type {\n",
       "        vertical-align: middle;\n",
       "    }\n",
       "\n",
       "    .dataframe tbody tr th {\n",
       "        vertical-align: top;\n",
       "    }\n",
       "\n",
       "    .dataframe thead th {\n",
       "        text-align: right;\n",
       "    }\n",
       "</style>\n",
       "<table border=\"1\" class=\"dataframe\">\n",
       "  <thead>\n",
       "    <tr style=\"text-align: right;\">\n",
       "      <th></th>\n",
       "      <th>product_name</th>\n",
       "      <th>product_id</th>\n",
       "      <th>description</th>\n",
       "      <th>brand</th>\n",
       "      <th>listing_price</th>\n",
       "      <th>sale_price</th>\n",
       "      <th>discount</th>\n",
       "      <th>revenue</th>\n",
       "    </tr>\n",
       "  </thead>\n",
       "  <tbody>\n",
       "    <tr>\n",
       "      <th>0</th>\n",
       "      <td>NaN</td>\n",
       "      <td>AH2430</td>\n",
       "      <td>NaN</td>\n",
       "      <td>NaN</td>\n",
       "      <td>NaN</td>\n",
       "      <td>NaN</td>\n",
       "      <td>NaN</td>\n",
       "      <td>NaN</td>\n",
       "    </tr>\n",
       "    <tr>\n",
       "      <th>1</th>\n",
       "      <td>Women's adidas Originals Sleek Shoes</td>\n",
       "      <td>G27341</td>\n",
       "      <td>A modern take on adidas sport heritage, tailor...</td>\n",
       "      <td>Adidas</td>\n",
       "      <td>75.99</td>\n",
       "      <td>37.99</td>\n",
       "      <td>0.5</td>\n",
       "      <td>1641.17</td>\n",
       "    </tr>\n",
       "    <tr>\n",
       "      <th>2</th>\n",
       "      <td>Women's adidas Swim Puka Slippers</td>\n",
       "      <td>CM0081</td>\n",
       "      <td>These adidas Puka slippers for women's come wi...</td>\n",
       "      <td>Adidas</td>\n",
       "      <td>9.99</td>\n",
       "      <td>5.99</td>\n",
       "      <td>0.4</td>\n",
       "      <td>398.93</td>\n",
       "    </tr>\n",
       "    <tr>\n",
       "      <th>3</th>\n",
       "      <td>Women's adidas Sport Inspired Questar Ride Shoes</td>\n",
       "      <td>B44832</td>\n",
       "      <td>Inspired by modern tech runners, these women's...</td>\n",
       "      <td>Adidas</td>\n",
       "      <td>69.99</td>\n",
       "      <td>34.99</td>\n",
       "      <td>0.5</td>\n",
       "      <td>2204.37</td>\n",
       "    </tr>\n",
       "    <tr>\n",
       "      <th>4</th>\n",
       "      <td>Women's adidas Originals Taekwondo Shoes</td>\n",
       "      <td>D98205</td>\n",
       "      <td>This design is inspired by vintage Taekwondo s...</td>\n",
       "      <td>Adidas</td>\n",
       "      <td>79.99</td>\n",
       "      <td>39.99</td>\n",
       "      <td>0.5</td>\n",
       "      <td>5182.70</td>\n",
       "    </tr>\n",
       "  </tbody>\n",
       "</table>\n",
       "</div>"
      ],
      "text/plain": [
       "                                       product_name product_id  \\\n",
       "0                                               NaN     AH2430   \n",
       "1              Women's adidas Originals Sleek Shoes     G27341   \n",
       "2                 Women's adidas Swim Puka Slippers     CM0081   \n",
       "3  Women's adidas Sport Inspired Questar Ride Shoes     B44832   \n",
       "4          Women's adidas Originals Taekwondo Shoes     D98205   \n",
       "\n",
       "                                         description   brand  listing_price  \\\n",
       "0                                                NaN     NaN            NaN   \n",
       "1  A modern take on adidas sport heritage, tailor...  Adidas          75.99   \n",
       "2  These adidas Puka slippers for women's come wi...  Adidas           9.99   \n",
       "3  Inspired by modern tech runners, these women's...  Adidas          69.99   \n",
       "4  This design is inspired by vintage Taekwondo s...  Adidas          79.99   \n",
       "\n",
       "   sale_price  discount  revenue  \n",
       "0         NaN       NaN      NaN  \n",
       "1       37.99       0.5  1641.17  \n",
       "2        5.99       0.4   398.93  \n",
       "3       34.99       0.5  2204.37  \n",
       "4       39.99       0.5  5182.70  "
      ]
     },
     "execution_count": 15,
     "metadata": {},
     "output_type": "execute_result"
    }
   ],
   "source": [
    "info_brands_finance = pd.merge(info, brands_finance, on='product_id')\n",
    "info_brands_finance.head()"
   ]
  },
  {
   "cell_type": "code",
   "execution_count": 16,
   "id": "026da853",
   "metadata": {},
   "outputs": [
    {
     "data": {
      "text/html": [
       "<div>\n",
       "<style scoped>\n",
       "    .dataframe tbody tr th:only-of-type {\n",
       "        vertical-align: middle;\n",
       "    }\n",
       "\n",
       "    .dataframe tbody tr th {\n",
       "        vertical-align: top;\n",
       "    }\n",
       "\n",
       "    .dataframe thead th {\n",
       "        text-align: right;\n",
       "    }\n",
       "</style>\n",
       "<table border=\"1\" class=\"dataframe\">\n",
       "  <thead>\n",
       "    <tr style=\"text-align: right;\">\n",
       "      <th></th>\n",
       "      <th>product_name</th>\n",
       "      <th>product_id</th>\n",
       "      <th>description</th>\n",
       "      <th>brand</th>\n",
       "      <th>listing_price</th>\n",
       "      <th>sale_price</th>\n",
       "      <th>discount</th>\n",
       "      <th>revenue</th>\n",
       "      <th>rating</th>\n",
       "      <th>reviews</th>\n",
       "    </tr>\n",
       "  </thead>\n",
       "  <tbody>\n",
       "    <tr>\n",
       "      <th>0</th>\n",
       "      <td>NaN</td>\n",
       "      <td>AH2430</td>\n",
       "      <td>NaN</td>\n",
       "      <td>NaN</td>\n",
       "      <td>NaN</td>\n",
       "      <td>NaN</td>\n",
       "      <td>NaN</td>\n",
       "      <td>NaN</td>\n",
       "      <td>NaN</td>\n",
       "      <td>NaN</td>\n",
       "    </tr>\n",
       "    <tr>\n",
       "      <th>1</th>\n",
       "      <td>Women's adidas Originals Sleek Shoes</td>\n",
       "      <td>G27341</td>\n",
       "      <td>A modern take on adidas sport heritage, tailor...</td>\n",
       "      <td>Adidas</td>\n",
       "      <td>75.99</td>\n",
       "      <td>37.99</td>\n",
       "      <td>0.5</td>\n",
       "      <td>1641.17</td>\n",
       "      <td>3.3</td>\n",
       "      <td>24.0</td>\n",
       "    </tr>\n",
       "    <tr>\n",
       "      <th>2</th>\n",
       "      <td>Women's adidas Swim Puka Slippers</td>\n",
       "      <td>CM0081</td>\n",
       "      <td>These adidas Puka slippers for women's come wi...</td>\n",
       "      <td>Adidas</td>\n",
       "      <td>9.99</td>\n",
       "      <td>5.99</td>\n",
       "      <td>0.4</td>\n",
       "      <td>398.93</td>\n",
       "      <td>2.6</td>\n",
       "      <td>37.0</td>\n",
       "    </tr>\n",
       "    <tr>\n",
       "      <th>3</th>\n",
       "      <td>Women's adidas Sport Inspired Questar Ride Shoes</td>\n",
       "      <td>B44832</td>\n",
       "      <td>Inspired by modern tech runners, these women's...</td>\n",
       "      <td>Adidas</td>\n",
       "      <td>69.99</td>\n",
       "      <td>34.99</td>\n",
       "      <td>0.5</td>\n",
       "      <td>2204.37</td>\n",
       "      <td>4.1</td>\n",
       "      <td>35.0</td>\n",
       "    </tr>\n",
       "    <tr>\n",
       "      <th>4</th>\n",
       "      <td>Women's adidas Originals Taekwondo Shoes</td>\n",
       "      <td>D98205</td>\n",
       "      <td>This design is inspired by vintage Taekwondo s...</td>\n",
       "      <td>Adidas</td>\n",
       "      <td>79.99</td>\n",
       "      <td>39.99</td>\n",
       "      <td>0.5</td>\n",
       "      <td>5182.70</td>\n",
       "      <td>3.5</td>\n",
       "      <td>72.0</td>\n",
       "    </tr>\n",
       "  </tbody>\n",
       "</table>\n",
       "</div>"
      ],
      "text/plain": [
       "                                       product_name product_id  \\\n",
       "0                                               NaN     AH2430   \n",
       "1              Women's adidas Originals Sleek Shoes     G27341   \n",
       "2                 Women's adidas Swim Puka Slippers     CM0081   \n",
       "3  Women's adidas Sport Inspired Questar Ride Shoes     B44832   \n",
       "4          Women's adidas Originals Taekwondo Shoes     D98205   \n",
       "\n",
       "                                         description   brand  listing_price  \\\n",
       "0                                                NaN     NaN            NaN   \n",
       "1  A modern take on adidas sport heritage, tailor...  Adidas          75.99   \n",
       "2  These adidas Puka slippers for women's come wi...  Adidas           9.99   \n",
       "3  Inspired by modern tech runners, these women's...  Adidas          69.99   \n",
       "4  This design is inspired by vintage Taekwondo s...  Adidas          79.99   \n",
       "\n",
       "   sale_price  discount  revenue  rating  reviews  \n",
       "0         NaN       NaN      NaN     NaN      NaN  \n",
       "1       37.99       0.5  1641.17     3.3     24.0  \n",
       "2        5.99       0.4   398.93     2.6     37.0  \n",
       "3       34.99       0.5  2204.37     4.1     35.0  \n",
       "4       39.99       0.5  5182.70     3.5     72.0  "
      ]
     },
     "execution_count": 16,
     "metadata": {},
     "output_type": "execute_result"
    }
   ],
   "source": [
    "sports_clothing = pd.merge(info_brands_finance, reviews, on='product_id')\n",
    "sports_clothing.head()"
   ]
  },
  {
   "cell_type": "code",
   "execution_count": 17,
   "id": "4dbf7289",
   "metadata": {},
   "outputs": [
    {
     "data": {
      "text/plain": [
       "product_name     3120\n",
       "product_id       3179\n",
       "description      3117\n",
       "brand            3120\n",
       "listing_price    3120\n",
       "sale_price       3120\n",
       "discount         3120\n",
       "revenue          3120\n",
       "rating           3120\n",
       "reviews          3120\n",
       "dtype: int64"
      ]
     },
     "execution_count": 17,
     "metadata": {},
     "output_type": "execute_result"
    }
   ],
   "source": [
    "sports_clothing.count()"
   ]
  },
  {
   "cell_type": "code",
   "execution_count": null,
   "id": "461065cd",
   "metadata": {},
   "outputs": [
    {
     "data": {
      "text/plain": [
       "product_name     59\n",
       "product_id        0\n",
       "description      62\n",
       "brand            59\n",
       "listing_price    59\n",
       "sale_price       59\n",
       "discount         59\n",
       "revenue          59\n",
       "rating           59\n",
       "reviews          59\n",
       "dtype: int64"
      ]
     },
     "execution_count": 18,
     "metadata": {},
     "output_type": "execute_result"
    }
   ],
   "source": [
    "# Prints null values for each column\n",
    "sports_clothing.isna().sum()"
   ]
  },
  {
   "cell_type": "code",
   "execution_count": null,
   "id": "aba37486",
   "metadata": {},
   "outputs": [
    {
     "data": {
      "text/plain": [
       "product_name     3117\n",
       "product_id       3117\n",
       "description      3117\n",
       "brand            3117\n",
       "listing_price    3117\n",
       "sale_price       3117\n",
       "discount         3117\n",
       "revenue          3117\n",
       "rating           3117\n",
       "reviews          3117\n",
       "dtype: int64"
      ]
     },
     "execution_count": 19,
     "metadata": {},
     "output_type": "execute_result"
    }
   ],
   "source": [
    "# Drop null values\n",
    "sports_clothing = sports_clothing.dropna()\n",
    "sports_clothing.count()"
   ]
  },
  {
   "cell_type": "code",
   "execution_count": null,
   "id": "3a05d946",
   "metadata": {},
   "outputs": [
    {
     "data": {
      "text/plain": [
       "array(['Adidas', 'Nike'], dtype=object)"
      ]
     },
     "execution_count": 20,
     "metadata": {},
     "output_type": "execute_result"
    }
   ],
   "source": [
    "# There are only two brands in the dataset\n",
    "sports_clothing['brand'].unique()"
   ]
  },
  {
   "cell_type": "code",
   "execution_count": 21,
   "id": "afa406ef",
   "metadata": {},
   "outputs": [
    {
     "data": {
      "text/plain": [
       "count    3117.000000\n",
       "mean       69.786558\n",
       "std        46.559051\n",
       "min         0.000000\n",
       "25%        45.990000\n",
       "50%        59.990000\n",
       "75%        89.990000\n",
       "max       299.990000\n",
       "Name: listing_price, dtype: float64"
      ]
     },
     "execution_count": 21,
     "metadata": {},
     "output_type": "execute_result"
    }
   ],
   "source": [
    "sports_clothing['listing_price'].describe()"
   ]
  },
  {
   "cell_type": "code",
   "execution_count": null,
   "id": "8a3afbd2",
   "metadata": {},
   "outputs": [
    {
     "data": {
      "text/html": [
       "<div>\n",
       "<style scoped>\n",
       "    .dataframe tbody tr th:only-of-type {\n",
       "        vertical-align: middle;\n",
       "    }\n",
       "\n",
       "    .dataframe tbody tr th {\n",
       "        vertical-align: top;\n",
       "    }\n",
       "\n",
       "    .dataframe thead th {\n",
       "        text-align: right;\n",
       "    }\n",
       "</style>\n",
       "<table border=\"1\" class=\"dataframe\">\n",
       "  <thead>\n",
       "    <tr style=\"text-align: right;\">\n",
       "      <th></th>\n",
       "      <th>price_label</th>\n",
       "      <th>listing_price</th>\n",
       "    </tr>\n",
       "  </thead>\n",
       "  <tbody>\n",
       "    <tr>\n",
       "      <th>1</th>\n",
       "      <td>Expensive</td>\n",
       "      <td>75.99</td>\n",
       "    </tr>\n",
       "    <tr>\n",
       "      <th>2</th>\n",
       "      <td>Budget</td>\n",
       "      <td>9.99</td>\n",
       "    </tr>\n",
       "    <tr>\n",
       "      <th>3</th>\n",
       "      <td>Expensive</td>\n",
       "      <td>69.99</td>\n",
       "    </tr>\n",
       "    <tr>\n",
       "      <th>4</th>\n",
       "      <td>Expensive</td>\n",
       "      <td>79.99</td>\n",
       "    </tr>\n",
       "    <tr>\n",
       "      <th>5</th>\n",
       "      <td>Average</td>\n",
       "      <td>47.99</td>\n",
       "    </tr>\n",
       "  </tbody>\n",
       "</table>\n",
       "</div>"
      ],
      "text/plain": [
       "  price_label  listing_price\n",
       "1   Expensive          75.99\n",
       "2      Budget           9.99\n",
       "3   Expensive          69.99\n",
       "4   Expensive          79.99\n",
       "5     Average          47.99"
      ]
     },
     "execution_count": 22,
     "metadata": {},
     "output_type": "execute_result"
    }
   ],
   "source": [
    "# Create bin labels and use pd.qcut() to cut and categorize data according to\n",
    "# quartiles (q=4). Can be done with pd.cut() but this is simpler.\n",
    "\n",
    "bin_labels = ['Budget', 'Average', 'Expensive', 'Elite']\n",
    "sports_clothing['price_label'] = pd.qcut(sports_clothing['listing_price'], q=4, labels=bin_labels)\n",
    "sports_clothing[['price_label','listing_price']].head(5)"
   ]
  },
  {
   "cell_type": "code",
   "execution_count": 23,
   "id": "ab5bcaa1",
   "metadata": {},
   "outputs": [
    {
     "data": {
      "text/plain": [
       "2575"
      ]
     },
     "execution_count": 23,
     "metadata": {},
     "output_type": "execute_result"
    }
   ],
   "source": [
    "adidas_count = sports_clothing['brand']=='Adidas'\n",
    "nike_count = sports_clothing['brand']=='Nike'\n",
    "sports_clothing[adidas_count].shape[0]\n"
   ]
  },
  {
   "cell_type": "code",
   "execution_count": 24,
   "id": "7ee50434",
   "metadata": {},
   "outputs": [
    {
     "data": {
      "text/plain": [
       "542"
      ]
     },
     "execution_count": 24,
     "metadata": {},
     "output_type": "execute_result"
    }
   ],
   "source": [
    "sports_clothing[nike_count].shape[0]"
   ]
  },
  {
   "cell_type": "code",
   "execution_count": null,
   "id": "4e997b3b",
   "metadata": {},
   "outputs": [
    {
     "data": {
      "text/html": [
       "<div>\n",
       "<style scoped>\n",
       "    .dataframe tbody tr th:only-of-type {\n",
       "        vertical-align: middle;\n",
       "    }\n",
       "\n",
       "    .dataframe tbody tr th {\n",
       "        vertical-align: top;\n",
       "    }\n",
       "\n",
       "    .dataframe thead th {\n",
       "        text-align: right;\n",
       "    }\n",
       "</style>\n",
       "<table border=\"1\" class=\"dataframe\">\n",
       "  <thead>\n",
       "    <tr style=\"text-align: right;\">\n",
       "      <th></th>\n",
       "      <th>brand</th>\n",
       "      <th>price_label</th>\n",
       "      <th>num_products</th>\n",
       "      <th>mean_revenue</th>\n",
       "    </tr>\n",
       "  </thead>\n",
       "  <tbody>\n",
       "    <tr>\n",
       "      <th>0</th>\n",
       "      <td>Adidas</td>\n",
       "      <td>Budget</td>\n",
       "      <td>574</td>\n",
       "      <td>2015.68</td>\n",
       "    </tr>\n",
       "    <tr>\n",
       "      <th>1</th>\n",
       "      <td>Adidas</td>\n",
       "      <td>Average</td>\n",
       "      <td>655</td>\n",
       "      <td>3035.30</td>\n",
       "    </tr>\n",
       "    <tr>\n",
       "      <th>2</th>\n",
       "      <td>Adidas</td>\n",
       "      <td>Expensive</td>\n",
       "      <td>759</td>\n",
       "      <td>4621.56</td>\n",
       "    </tr>\n",
       "    <tr>\n",
       "      <th>3</th>\n",
       "      <td>Adidas</td>\n",
       "      <td>Elite</td>\n",
       "      <td>587</td>\n",
       "      <td>8302.78</td>\n",
       "    </tr>\n",
       "    <tr>\n",
       "      <th>4</th>\n",
       "      <td>Nike</td>\n",
       "      <td>Budget</td>\n",
       "      <td>357</td>\n",
       "      <td>1596.33</td>\n",
       "    </tr>\n",
       "    <tr>\n",
       "      <th>5</th>\n",
       "      <td>Nike</td>\n",
       "      <td>Average</td>\n",
       "      <td>8</td>\n",
       "      <td>675.59</td>\n",
       "    </tr>\n",
       "    <tr>\n",
       "      <th>6</th>\n",
       "      <td>Nike</td>\n",
       "      <td>Expensive</td>\n",
       "      <td>47</td>\n",
       "      <td>500.56</td>\n",
       "    </tr>\n",
       "    <tr>\n",
       "      <th>7</th>\n",
       "      <td>Nike</td>\n",
       "      <td>Elite</td>\n",
       "      <td>130</td>\n",
       "      <td>1367.45</td>\n",
       "    </tr>\n",
       "  </tbody>\n",
       "</table>\n",
       "</div>"
      ],
      "text/plain": [
       "    brand price_label  num_products  mean_revenue\n",
       "0  Adidas      Budget           574       2015.68\n",
       "1  Adidas     Average           655       3035.30\n",
       "2  Adidas   Expensive           759       4621.56\n",
       "3  Adidas       Elite           587       8302.78\n",
       "4    Nike      Budget           357       1596.33\n",
       "5    Nike     Average             8        675.59\n",
       "6    Nike   Expensive            47        500.56\n",
       "7    Nike       Elite           130       1367.45"
      ]
     },
     "execution_count": 31,
     "metadata": {},
     "output_type": "execute_result"
    }
   ],
   "source": [
    "# Long approach using pd.merge() \n",
    "# Used 'observed' parameter to show only present values after applying aggregation functions\n",
    "# If false, lists all combinations including non-observable values\n",
    "\n",
    "num_prod = sports_clothing.groupby(['brand','price_label'], as_index=False, observed=True).agg(num_products=('brand','count'))\n",
    "mean_rev = sports_clothing.groupby(['brand','price_label'], as_index=False, observed=True)['revenue'].mean().round(2)\n",
    "mean_rev.rename(columns={'revenue':'mean_revenue'}, inplace=True)\n",
    "\n",
    "adidas_vs_nike = pd.merge(num_prod, mean_rev, how='left', on=['brand','price_label'])\n",
    "adidas_vs_nike"
   ]
  },
  {
   "cell_type": "code",
   "execution_count": null,
   "id": "7b250f50",
   "metadata": {},
   "outputs": [],
   "source": [
    "# ALTERNATE APPROACH\n",
    "\n",
    "# This is cleaner and I have overlooked the fact that\n",
    "# you can add columns by chaining .agg() to the grouping\n",
    "\n",
    "'''\n",
    "adidas_vs_nike = (\n",
    "    sports_clothing.groupby(\n",
    "        ['brand','price_label'],\n",
    "        as_index=False\n",
    "    )\n",
    "    .agg(\n",
    "        num_products=('brand','count'),\n",
    "        mean_revenue=('revenue','mean')\n",
    "    )\n",
    ")\n",
    "\n",
    "adidas_vs_nike['mean_revenue'] = adidas_vs_nike['mean_revenue'].round(2)\n",
    "\n",
    "adidas_vs_nike\n",
    "\n",
    "'''"
   ]
  }
 ],
 "metadata": {
  "kernelspec": {
   "display_name": "base",
   "language": "python",
   "name": "python3"
  },
  "language_info": {
   "codemirror_mode": {
    "name": "ipython",
    "version": 3
   },
   "file_extension": ".py",
   "mimetype": "text/x-python",
   "name": "python",
   "nbconvert_exporter": "python",
   "pygments_lexer": "ipython3",
   "version": "3.12.7"
  }
 },
 "nbformat": 4,
 "nbformat_minor": 5
}
